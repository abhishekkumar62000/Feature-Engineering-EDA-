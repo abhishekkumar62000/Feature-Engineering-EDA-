{
 "cells": [
  {
   "cell_type": "code",
   "execution_count": 1,
   "id": "3582407b-e45c-4a5f-a284-2341e52aba31",
   "metadata": {},
   "outputs": [],
   "source": [
    "import numpy as np\n",
    "import pandas as pd\n",
    "import matplotlib.pyplot as plt\n",
    "import seaborn as sns"
   ]
  },
  {
   "cell_type": "code",
   "execution_count": 7,
   "id": "a37d38c6-cfb8-47b1-b61f-569f95dfabd2",
   "metadata": {},
   "outputs": [],
   "source": [
    "df_agg = pd.read_csv(\"Aggregated_Metrics_By_Video.csv\")\n",
    "df_agg_country_sub = pd.read_csv(\"Aggregated_Metrics_By_Country_And_Subscriber_Status.csv\")\n",
    "df_ts = pd.read_csv(\"Video_Performance_Over_Time.csv\")\n",
    "df_comments = pd.read_csv(\"All_Comments_Final.csv\")"
   ]
  },
  {
   "cell_type": "code",
   "execution_count": null,
   "id": "7484a4cd-a761-46c9-9ffd-b14197a839b4",
   "metadata": {},
   "outputs": [],
   "source": [
    "df_agg = pd.read_csv('/kaggle/input/ken-jee-youtube-data/Aggregated_Metrics_By_Video.csv',encoding='utf-8')\n",
    "df_agg_country_sub = pd.read_csv('/kaggle/input/ken-jee-youtube-data/Aggregated_Metrics_By_Country_And_Subscriber_Status.csv', encoding='utf-8')\n",
    "df_ts = pd.read_csv('/kaggle/input/ken-jee-youtube-data/Video_Performance_Over_Time.csv', encoding='utf-8')\n",
    "df_comments = pd.read_csv('/kaggle/input/ken-jee-youtube-data/All_Comments_Final.csv', encoding='utf-8')"
   ]
  },
  {
   "cell_type": "code",
   "execution_count": 9,
   "id": "84387b78-5769-4f07-8749-1adc549166a7",
   "metadata": {},
   "outputs": [
    {
     "data": {
      "text/html": [
       "<div>\n",
       "<style scoped>\n",
       "    .dataframe tbody tr th:only-of-type {\n",
       "        vertical-align: middle;\n",
       "    }\n",
       "\n",
       "    .dataframe tbody tr th {\n",
       "        vertical-align: top;\n",
       "    }\n",
       "\n",
       "    .dataframe thead th {\n",
       "        text-align: right;\n",
       "    }\n",
       "</style>\n",
       "<table border=\"1\" class=\"dataframe\">\n",
       "  <thead>\n",
       "    <tr style=\"text-align: right;\">\n",
       "      <th></th>\n",
       "      <th>Video</th>\n",
       "      <th>Video title</th>\n",
       "      <th>Video pub­lish time</th>\n",
       "      <th>Com­ments ad­ded</th>\n",
       "      <th>Shares</th>\n",
       "      <th>Dis­likes</th>\n",
       "      <th>Likes</th>\n",
       "      <th>Sub­scribers lost</th>\n",
       "      <th>Sub­scribers gained</th>\n",
       "      <th>RPM (USD)</th>\n",
       "      <th>CPM (USD)</th>\n",
       "      <th>Av­er­age per­cent­age viewed (%)</th>\n",
       "      <th>Av­er­age view dur­a­tion</th>\n",
       "      <th>Views</th>\n",
       "      <th>Watch time (hours)</th>\n",
       "      <th>Sub­scribers</th>\n",
       "      <th>Your es­tim­ated rev­en­ue (USD)</th>\n",
       "      <th>Im­pres­sions</th>\n",
       "      <th>Im­pres­sions click-through rate (%)</th>\n",
       "    </tr>\n",
       "  </thead>\n",
       "  <tbody>\n",
       "    <tr>\n",
       "      <th>0</th>\n",
       "      <td>Total</td>\n",
       "      <td>NaN</td>\n",
       "      <td>NaN</td>\n",
       "      <td>14197</td>\n",
       "      <td>39640</td>\n",
       "      <td>3902</td>\n",
       "      <td>225021</td>\n",
       "      <td>45790</td>\n",
       "      <td>229241</td>\n",
       "      <td>5.276</td>\n",
       "      <td>11.990</td>\n",
       "      <td>26.61</td>\n",
       "      <td>0:03:25</td>\n",
       "      <td>5568487</td>\n",
       "      <td>317602.3536</td>\n",
       "      <td>183451</td>\n",
       "      <td>29068.652</td>\n",
       "      <td>100954064</td>\n",
       "      <td>3.16</td>\n",
       "    </tr>\n",
       "    <tr>\n",
       "      <th>1</th>\n",
       "      <td>4OZip0cgOho</td>\n",
       "      <td>How I Would Learn Data Science (If I Had to St...</td>\n",
       "      <td>May 8, 2020</td>\n",
       "      <td>907</td>\n",
       "      <td>9583</td>\n",
       "      <td>942</td>\n",
       "      <td>46903</td>\n",
       "      <td>451</td>\n",
       "      <td>46904</td>\n",
       "      <td>6.353</td>\n",
       "      <td>12.835</td>\n",
       "      <td>36.65</td>\n",
       "      <td>0:03:09</td>\n",
       "      <td>1253559</td>\n",
       "      <td>65850.7042</td>\n",
       "      <td>46453</td>\n",
       "      <td>7959.533</td>\n",
       "      <td>26498799</td>\n",
       "      <td>3.14</td>\n",
       "    </tr>\n",
       "    <tr>\n",
       "      <th>2</th>\n",
       "      <td>78LjdAAw0wA</td>\n",
       "      <td>100K Channel Update + AMA Stream!</td>\n",
       "      <td>Nov 12, 2020</td>\n",
       "      <td>412</td>\n",
       "      <td>4</td>\n",
       "      <td>4</td>\n",
       "      <td>130</td>\n",
       "      <td>15</td>\n",
       "      <td>12</td>\n",
       "      <td>2.668</td>\n",
       "      <td>6.259</td>\n",
       "      <td>6.26</td>\n",
       "      <td>0:05:14</td>\n",
       "      <td>2291</td>\n",
       "      <td>200.2966</td>\n",
       "      <td>-3</td>\n",
       "      <td>6.113</td>\n",
       "      <td>188318</td>\n",
       "      <td>0.72</td>\n",
       "    </tr>\n",
       "    <tr>\n",
       "      <th>3</th>\n",
       "      <td>hO_YKK_0Qck</td>\n",
       "      <td>Uber Driver to Machine Learning Engineer in 9 ...</td>\n",
       "      <td>Jul 16, 2020</td>\n",
       "      <td>402</td>\n",
       "      <td>152</td>\n",
       "      <td>15</td>\n",
       "      <td>881</td>\n",
       "      <td>9</td>\n",
       "      <td>198</td>\n",
       "      <td>9.516</td>\n",
       "      <td>11.695</td>\n",
       "      <td>15.12</td>\n",
       "      <td>0:10:21</td>\n",
       "      <td>21350</td>\n",
       "      <td>3687.3387</td>\n",
       "      <td>189</td>\n",
       "      <td>202.963</td>\n",
       "      <td>442334</td>\n",
       "      <td>2.53</td>\n",
       "    </tr>\n",
       "    <tr>\n",
       "      <th>4</th>\n",
       "      <td>uXLnbdHMf8w</td>\n",
       "      <td>Why I'm Starting Data Science Over Again.</td>\n",
       "      <td>Aug 29, 2020</td>\n",
       "      <td>375</td>\n",
       "      <td>367</td>\n",
       "      <td>22</td>\n",
       "      <td>2622</td>\n",
       "      <td>40</td>\n",
       "      <td>1957</td>\n",
       "      <td>3.143</td>\n",
       "      <td>7.943</td>\n",
       "      <td>33.41</td>\n",
       "      <td>0:02:36</td>\n",
       "      <td>49564</td>\n",
       "      <td>2148.3110</td>\n",
       "      <td>1917</td>\n",
       "      <td>155.779</td>\n",
       "      <td>521185</td>\n",
       "      <td>4.01</td>\n",
       "    </tr>\n",
       "  </tbody>\n",
       "</table>\n",
       "</div>"
      ],
      "text/plain": [
       "         Video                                        Video title  \\\n",
       "0        Total                                                NaN   \n",
       "1  4OZip0cgOho  How I Would Learn Data Science (If I Had to St...   \n",
       "2  78LjdAAw0wA                  100K Channel Update + AMA Stream!   \n",
       "3  hO_YKK_0Qck  Uber Driver to Machine Learning Engineer in 9 ...   \n",
       "4  uXLnbdHMf8w          Why I'm Starting Data Science Over Again.   \n",
       "\n",
       "  Video pub­lish time  Com­ments ad­ded  Shares  Dis­likes   Likes  \\\n",
       "0                 NaN             14197   39640       3902  225021   \n",
       "1         May 8, 2020               907    9583        942   46903   \n",
       "2        Nov 12, 2020               412       4          4     130   \n",
       "3        Jul 16, 2020               402     152         15     881   \n",
       "4        Aug 29, 2020               375     367         22    2622   \n",
       "\n",
       "   Sub­scribers lost  Sub­scribers gained  RPM (USD)  CPM (USD)  \\\n",
       "0              45790               229241      5.276     11.990   \n",
       "1                451                46904      6.353     12.835   \n",
       "2                 15                   12      2.668      6.259   \n",
       "3                  9                  198      9.516     11.695   \n",
       "4                 40                 1957      3.143      7.943   \n",
       "\n",
       "   Av­er­age per­cent­age viewed (%) Av­er­age view dur­a­tion    Views  \\\n",
       "0                              26.61                   0:03:25  5568487   \n",
       "1                              36.65                   0:03:09  1253559   \n",
       "2                               6.26                   0:05:14     2291   \n",
       "3                              15.12                   0:10:21    21350   \n",
       "4                              33.41                   0:02:36    49564   \n",
       "\n",
       "   Watch time (hours)  Sub­scribers  Your es­tim­ated rev­en­ue (USD)  \\\n",
       "0         317602.3536        183451                         29068.652   \n",
       "1          65850.7042         46453                          7959.533   \n",
       "2            200.2966            -3                             6.113   \n",
       "3           3687.3387           189                           202.963   \n",
       "4           2148.3110          1917                           155.779   \n",
       "\n",
       "   Im­pres­sions  Im­pres­sions click-through rate (%)  \n",
       "0      100954064                                  3.16  \n",
       "1       26498799                                  3.14  \n",
       "2         188318                                  0.72  \n",
       "3         442334                                  2.53  \n",
       "4         521185                                  4.01  "
      ]
     },
     "execution_count": 9,
     "metadata": {},
     "output_type": "execute_result"
    }
   ],
   "source": [
    "df_agg.head()"
   ]
  },
  {
   "cell_type": "code",
   "execution_count": 10,
   "id": "798f12fb-a4ce-4dc3-92ff-587934f65fb8",
   "metadata": {},
   "outputs": [
    {
     "data": {
      "text/html": [
       "<div>\n",
       "<style scoped>\n",
       "    .dataframe tbody tr th:only-of-type {\n",
       "        vertical-align: middle;\n",
       "    }\n",
       "\n",
       "    .dataframe tbody tr th {\n",
       "        vertical-align: top;\n",
       "    }\n",
       "\n",
       "    .dataframe thead th {\n",
       "        text-align: right;\n",
       "    }\n",
       "</style>\n",
       "<table border=\"1\" class=\"dataframe\">\n",
       "  <thead>\n",
       "    <tr style=\"text-align: right;\">\n",
       "      <th></th>\n",
       "      <th>Video Title</th>\n",
       "      <th>External Video ID</th>\n",
       "      <th>Video Length</th>\n",
       "      <th>Thumbnail link</th>\n",
       "      <th>Country Code</th>\n",
       "      <th>Is Subscribed</th>\n",
       "      <th>Views</th>\n",
       "      <th>Video Likes Added</th>\n",
       "      <th>Video Dislikes Added</th>\n",
       "      <th>Video Likes Removed</th>\n",
       "      <th>User Subscriptions Added</th>\n",
       "      <th>User Subscriptions Removed</th>\n",
       "      <th>Average View Percentage</th>\n",
       "      <th>Average Watch Time</th>\n",
       "      <th>User Comments Added</th>\n",
       "    </tr>\n",
       "  </thead>\n",
       "  <tbody>\n",
       "    <tr>\n",
       "      <th>0</th>\n",
       "      <td>🌶 Hot Topics in Tech: Data Science Explained #...</td>\n",
       "      <td>OtqQYqRNDGI</td>\n",
       "      <td>59</td>\n",
       "      <td>https://i.ytimg.com/vi/OtqQYqRNDGI/hqdefault.jpg</td>\n",
       "      <td>HK</td>\n",
       "      <td>True</td>\n",
       "      <td>23</td>\n",
       "      <td>1</td>\n",
       "      <td>0</td>\n",
       "      <td>0</td>\n",
       "      <td>2</td>\n",
       "      <td>0</td>\n",
       "      <td>0.671870</td>\n",
       "      <td>39.640348</td>\n",
       "      <td>0</td>\n",
       "    </tr>\n",
       "    <tr>\n",
       "      <th>1</th>\n",
       "      <td>🌶 Hot Topics in Tech: Data Science Explained #...</td>\n",
       "      <td>OtqQYqRNDGI</td>\n",
       "      <td>59</td>\n",
       "      <td>https://i.ytimg.com/vi/OtqQYqRNDGI/hqdefault.jpg</td>\n",
       "      <td>ME</td>\n",
       "      <td>True</td>\n",
       "      <td>3</td>\n",
       "      <td>0</td>\n",
       "      <td>0</td>\n",
       "      <td>0</td>\n",
       "      <td>0</td>\n",
       "      <td>0</td>\n",
       "      <td>0.498870</td>\n",
       "      <td>29.433333</td>\n",
       "      <td>0</td>\n",
       "    </tr>\n",
       "    <tr>\n",
       "      <th>2</th>\n",
       "      <td>🌶 Hot Topics in Tech: Data Science Explained #...</td>\n",
       "      <td>OtqQYqRNDGI</td>\n",
       "      <td>59</td>\n",
       "      <td>https://i.ytimg.com/vi/OtqQYqRNDGI/hqdefault.jpg</td>\n",
       "      <td>RW</td>\n",
       "      <td>True</td>\n",
       "      <td>2</td>\n",
       "      <td>0</td>\n",
       "      <td>0</td>\n",
       "      <td>0</td>\n",
       "      <td>0</td>\n",
       "      <td>0</td>\n",
       "      <td>0.681780</td>\n",
       "      <td>40.225000</td>\n",
       "      <td>0</td>\n",
       "    </tr>\n",
       "    <tr>\n",
       "      <th>3</th>\n",
       "      <td>🌶 Hot Topics in Tech: Data Science Explained #...</td>\n",
       "      <td>OtqQYqRNDGI</td>\n",
       "      <td>59</td>\n",
       "      <td>https://i.ytimg.com/vi/OtqQYqRNDGI/hqdefault.jpg</td>\n",
       "      <td>US</td>\n",
       "      <td>True</td>\n",
       "      <td>979</td>\n",
       "      <td>81</td>\n",
       "      <td>6</td>\n",
       "      <td>8</td>\n",
       "      <td>16</td>\n",
       "      <td>4</td>\n",
       "      <td>0.694854</td>\n",
       "      <td>40.996389</td>\n",
       "      <td>0</td>\n",
       "    </tr>\n",
       "    <tr>\n",
       "      <th>4</th>\n",
       "      <td>🌶 Hot Topics in Tech: Data Science Explained #...</td>\n",
       "      <td>OtqQYqRNDGI</td>\n",
       "      <td>59</td>\n",
       "      <td>https://i.ytimg.com/vi/OtqQYqRNDGI/hqdefault.jpg</td>\n",
       "      <td>DE</td>\n",
       "      <td>False</td>\n",
       "      <td>75</td>\n",
       "      <td>3</td>\n",
       "      <td>0</td>\n",
       "      <td>1</td>\n",
       "      <td>0</td>\n",
       "      <td>0</td>\n",
       "      <td>0.661515</td>\n",
       "      <td>39.029373</td>\n",
       "      <td>0</td>\n",
       "    </tr>\n",
       "  </tbody>\n",
       "</table>\n",
       "</div>"
      ],
      "text/plain": [
       "                                         Video Title External Video ID  \\\n",
       "0  🌶 Hot Topics in Tech: Data Science Explained #...       OtqQYqRNDGI   \n",
       "1  🌶 Hot Topics in Tech: Data Science Explained #...       OtqQYqRNDGI   \n",
       "2  🌶 Hot Topics in Tech: Data Science Explained #...       OtqQYqRNDGI   \n",
       "3  🌶 Hot Topics in Tech: Data Science Explained #...       OtqQYqRNDGI   \n",
       "4  🌶 Hot Topics in Tech: Data Science Explained #...       OtqQYqRNDGI   \n",
       "\n",
       "   Video Length                                    Thumbnail link  \\\n",
       "0            59  https://i.ytimg.com/vi/OtqQYqRNDGI/hqdefault.jpg   \n",
       "1            59  https://i.ytimg.com/vi/OtqQYqRNDGI/hqdefault.jpg   \n",
       "2            59  https://i.ytimg.com/vi/OtqQYqRNDGI/hqdefault.jpg   \n",
       "3            59  https://i.ytimg.com/vi/OtqQYqRNDGI/hqdefault.jpg   \n",
       "4            59  https://i.ytimg.com/vi/OtqQYqRNDGI/hqdefault.jpg   \n",
       "\n",
       "  Country Code  Is Subscribed  Views  Video Likes Added  Video Dislikes Added  \\\n",
       "0           HK           True     23                  1                     0   \n",
       "1           ME           True      3                  0                     0   \n",
       "2           RW           True      2                  0                     0   \n",
       "3           US           True    979                 81                     6   \n",
       "4           DE          False     75                  3                     0   \n",
       "\n",
       "   Video Likes Removed  User Subscriptions Added  User Subscriptions Removed  \\\n",
       "0                    0                         2                           0   \n",
       "1                    0                         0                           0   \n",
       "2                    0                         0                           0   \n",
       "3                    8                        16                           4   \n",
       "4                    1                         0                           0   \n",
       "\n",
       "   Average View Percentage  Average Watch Time  User Comments Added  \n",
       "0                 0.671870           39.640348                    0  \n",
       "1                 0.498870           29.433333                    0  \n",
       "2                 0.681780           40.225000                    0  \n",
       "3                 0.694854           40.996389                    0  \n",
       "4                 0.661515           39.029373                    0  "
      ]
     },
     "execution_count": 10,
     "metadata": {},
     "output_type": "execute_result"
    }
   ],
   "source": [
    "df_agg_country_sub.head()"
   ]
  },
  {
   "cell_type": "code",
   "execution_count": 12,
   "id": "11fa4fb2-3059-4162-9576-a81b7a09f936",
   "metadata": {},
   "outputs": [
    {
     "data": {
      "text/html": [
       "<div>\n",
       "<style scoped>\n",
       "    .dataframe tbody tr th:only-of-type {\n",
       "        vertical-align: middle;\n",
       "    }\n",
       "\n",
       "    .dataframe tbody tr th {\n",
       "        vertical-align: top;\n",
       "    }\n",
       "\n",
       "    .dataframe thead th {\n",
       "        text-align: right;\n",
       "    }\n",
       "</style>\n",
       "<table border=\"1\" class=\"dataframe\">\n",
       "  <thead>\n",
       "    <tr style=\"text-align: right;\">\n",
       "      <th></th>\n",
       "      <th>Date</th>\n",
       "      <th>Video Title</th>\n",
       "      <th>External Video ID</th>\n",
       "      <th>Video Length</th>\n",
       "      <th>Thumbnail link</th>\n",
       "      <th>Views</th>\n",
       "      <th>Video Likes Added</th>\n",
       "      <th>Video Dislikes Added</th>\n",
       "      <th>Video Likes Removed</th>\n",
       "      <th>User Subscriptions Added</th>\n",
       "      <th>User Subscriptions Removed</th>\n",
       "      <th>Average View Percentage</th>\n",
       "      <th>Average Watch Time</th>\n",
       "      <th>User Comments Added</th>\n",
       "    </tr>\n",
       "  </thead>\n",
       "  <tbody>\n",
       "    <tr>\n",
       "      <th>0</th>\n",
       "      <td>19 Jan 2022</td>\n",
       "      <td>Kaggle Project From Scratch - Part 2 (Explorat...</td>\n",
       "      <td>KQ80oD_boBM</td>\n",
       "      <td>2191</td>\n",
       "      <td>https://i.ytimg.com/vi/KQ80oD_boBM/hqdefault.jpg</td>\n",
       "      <td>13</td>\n",
       "      <td>0</td>\n",
       "      <td>0</td>\n",
       "      <td>0</td>\n",
       "      <td>0</td>\n",
       "      <td>0</td>\n",
       "      <td>0.069055</td>\n",
       "      <td>151.300154</td>\n",
       "      <td>0</td>\n",
       "    </tr>\n",
       "    <tr>\n",
       "      <th>1</th>\n",
       "      <td>19 Jan 2022</td>\n",
       "      <td>Welcome To My Channel | Ken Jee | Data Science</td>\n",
       "      <td>smeFkHwnM_k</td>\n",
       "      <td>51</td>\n",
       "      <td>https://i.ytimg.com/vi/smeFkHwnM_k/hqdefault.jpg</td>\n",
       "      <td>2</td>\n",
       "      <td>0</td>\n",
       "      <td>0</td>\n",
       "      <td>0</td>\n",
       "      <td>1</td>\n",
       "      <td>0</td>\n",
       "      <td>0.471255</td>\n",
       "      <td>24.034000</td>\n",
       "      <td>0</td>\n",
       "    </tr>\n",
       "    <tr>\n",
       "      <th>2</th>\n",
       "      <td>19 Jan 2022</td>\n",
       "      <td>How She Dominated the FAANG Data Science Inter...</td>\n",
       "      <td>vfV4nm004VQ</td>\n",
       "      <td>2686</td>\n",
       "      <td>https://i.ytimg.com/vi/vfV4nm004VQ/hqdefault.jpg</td>\n",
       "      <td>10</td>\n",
       "      <td>0</td>\n",
       "      <td>0</td>\n",
       "      <td>0</td>\n",
       "      <td>0</td>\n",
       "      <td>0</td>\n",
       "      <td>0.126049</td>\n",
       "      <td>338.567500</td>\n",
       "      <td>0</td>\n",
       "    </tr>\n",
       "    <tr>\n",
       "      <th>3</th>\n",
       "      <td>19 Jan 2022</td>\n",
       "      <td>The 9 Books That Changed My Perspective in 2019</td>\n",
       "      <td>3TrAYmrmA8o</td>\n",
       "      <td>980</td>\n",
       "      <td>https://i.ytimg.com/vi/3TrAYmrmA8o/hqdefault.jpg</td>\n",
       "      <td>1</td>\n",
       "      <td>0</td>\n",
       "      <td>0</td>\n",
       "      <td>0</td>\n",
       "      <td>0</td>\n",
       "      <td>0</td>\n",
       "      <td>0.011508</td>\n",
       "      <td>11.278000</td>\n",
       "      <td>0</td>\n",
       "    </tr>\n",
       "    <tr>\n",
       "      <th>4</th>\n",
       "      <td>19 Jan 2022</td>\n",
       "      <td>Interview with the Director of AI Research @ N...</td>\n",
       "      <td>Xgg7dIKys9E</td>\n",
       "      <td>2904</td>\n",
       "      <td>https://i.ytimg.com/vi/Xgg7dIKys9E/hqdefault.jpg</td>\n",
       "      <td>1</td>\n",
       "      <td>0</td>\n",
       "      <td>0</td>\n",
       "      <td>0</td>\n",
       "      <td>0</td>\n",
       "      <td>0</td>\n",
       "      <td>0.007541</td>\n",
       "      <td>21.900000</td>\n",
       "      <td>0</td>\n",
       "    </tr>\n",
       "  </tbody>\n",
       "</table>\n",
       "</div>"
      ],
      "text/plain": [
       "          Date                                        Video Title  \\\n",
       "0  19 Jan 2022  Kaggle Project From Scratch - Part 2 (Explorat...   \n",
       "1  19 Jan 2022     Welcome To My Channel | Ken Jee | Data Science   \n",
       "2  19 Jan 2022  How She Dominated the FAANG Data Science Inter...   \n",
       "3  19 Jan 2022    The 9 Books That Changed My Perspective in 2019   \n",
       "4  19 Jan 2022  Interview with the Director of AI Research @ N...   \n",
       "\n",
       "  External Video ID  Video Length  \\\n",
       "0       KQ80oD_boBM          2191   \n",
       "1       smeFkHwnM_k            51   \n",
       "2       vfV4nm004VQ          2686   \n",
       "3       3TrAYmrmA8o           980   \n",
       "4       Xgg7dIKys9E          2904   \n",
       "\n",
       "                                     Thumbnail link  Views  Video Likes Added  \\\n",
       "0  https://i.ytimg.com/vi/KQ80oD_boBM/hqdefault.jpg     13                  0   \n",
       "1  https://i.ytimg.com/vi/smeFkHwnM_k/hqdefault.jpg      2                  0   \n",
       "2  https://i.ytimg.com/vi/vfV4nm004VQ/hqdefault.jpg     10                  0   \n",
       "3  https://i.ytimg.com/vi/3TrAYmrmA8o/hqdefault.jpg      1                  0   \n",
       "4  https://i.ytimg.com/vi/Xgg7dIKys9E/hqdefault.jpg      1                  0   \n",
       "\n",
       "   Video Dislikes Added  Video Likes Removed  User Subscriptions Added  \\\n",
       "0                     0                    0                         0   \n",
       "1                     0                    0                         1   \n",
       "2                     0                    0                         0   \n",
       "3                     0                    0                         0   \n",
       "4                     0                    0                         0   \n",
       "\n",
       "   User Subscriptions Removed  Average View Percentage  Average Watch Time  \\\n",
       "0                           0                 0.069055          151.300154   \n",
       "1                           0                 0.471255           24.034000   \n",
       "2                           0                 0.126049          338.567500   \n",
       "3                           0                 0.011508           11.278000   \n",
       "4                           0                 0.007541           21.900000   \n",
       "\n",
       "   User Comments Added  \n",
       "0                    0  \n",
       "1                    0  \n",
       "2                    0  \n",
       "3                    0  \n",
       "4                    0  "
      ]
     },
     "execution_count": 12,
     "metadata": {},
     "output_type": "execute_result"
    }
   ],
   "source": [
    "df_ts.head()"
   ]
  },
  {
   "cell_type": "code",
   "execution_count": 13,
   "id": "1d4788df-be13-4204-91ab-b14f387c8d0a",
   "metadata": {},
   "outputs": [
    {
     "data": {
      "text/html": [
       "<div>\n",
       "<style scoped>\n",
       "    .dataframe tbody tr th:only-of-type {\n",
       "        vertical-align: middle;\n",
       "    }\n",
       "\n",
       "    .dataframe tbody tr th {\n",
       "        vertical-align: top;\n",
       "    }\n",
       "\n",
       "    .dataframe thead th {\n",
       "        text-align: right;\n",
       "    }\n",
       "</style>\n",
       "<table border=\"1\" class=\"dataframe\">\n",
       "  <thead>\n",
       "    <tr style=\"text-align: right;\">\n",
       "      <th></th>\n",
       "      <th>Comments</th>\n",
       "      <th>Comment_ID</th>\n",
       "      <th>Reply_Count</th>\n",
       "      <th>Like_Count</th>\n",
       "      <th>Date</th>\n",
       "      <th>VidId</th>\n",
       "      <th>user_ID</th>\n",
       "    </tr>\n",
       "  </thead>\n",
       "  <tbody>\n",
       "    <tr>\n",
       "      <th>0</th>\n",
       "      <td>Thanks for this video Ken.\\n\\nI decided to go ...</td>\n",
       "      <td>UgxFZTIzC4UPyhhX_PZ4AaABAg</td>\n",
       "      <td>0</td>\n",
       "      <td>0</td>\n",
       "      <td>2022-01-22T08:13:29Z</td>\n",
       "      <td>xpIFS6jZbe8</td>\n",
       "      <td>user_981</td>\n",
       "    </tr>\n",
       "    <tr>\n",
       "      <th>1</th>\n",
       "      <td>Hello ken jee!!! I'm doing a graduation on Com...</td>\n",
       "      <td>Ugx3IYuAufhb932GYQx4AaABAg</td>\n",
       "      <td>0</td>\n",
       "      <td>0</td>\n",
       "      <td>2022-01-22T01:09:46Z</td>\n",
       "      <td>xpIFS6jZbe8</td>\n",
       "      <td>user_213</td>\n",
       "    </tr>\n",
       "    <tr>\n",
       "      <th>2</th>\n",
       "      <td>Thanks for this video, man. So useful. I'll me...</td>\n",
       "      <td>UgyhwwoK24arzRt1mud4AaABAg</td>\n",
       "      <td>0</td>\n",
       "      <td>0</td>\n",
       "      <td>2022-01-21T23:59:05Z</td>\n",
       "      <td>rEWPqw6rMGI</td>\n",
       "      <td>user_1065</td>\n",
       "    </tr>\n",
       "    <tr>\n",
       "      <th>3</th>\n",
       "      <td>Great video!!! I started learning Python 8 mon...</td>\n",
       "      <td>UgwrrI7nd3WClsotmHV4AaABAg</td>\n",
       "      <td>0</td>\n",
       "      <td>0</td>\n",
       "      <td>2022-01-21T23:00:37Z</td>\n",
       "      <td>xpIFS6jZbe8</td>\n",
       "      <td>user_3391</td>\n",
       "    </tr>\n",
       "    <tr>\n",
       "      <th>4</th>\n",
       "      <td>Been watching hours of your material (and Tina...</td>\n",
       "      <td>UgxlOrHO4MHKSwY9mUN4AaABAg</td>\n",
       "      <td>0</td>\n",
       "      <td>0</td>\n",
       "      <td>2022-01-21T20:24:20Z</td>\n",
       "      <td>sHRq-LshG3U</td>\n",
       "      <td>user_2816</td>\n",
       "    </tr>\n",
       "  </tbody>\n",
       "</table>\n",
       "</div>"
      ],
      "text/plain": [
       "                                            Comments  \\\n",
       "0  Thanks for this video Ken.\\n\\nI decided to go ...   \n",
       "1  Hello ken jee!!! I'm doing a graduation on Com...   \n",
       "2  Thanks for this video, man. So useful. I'll me...   \n",
       "3  Great video!!! I started learning Python 8 mon...   \n",
       "4  Been watching hours of your material (and Tina...   \n",
       "\n",
       "                   Comment_ID  Reply_Count  Like_Count                  Date  \\\n",
       "0  UgxFZTIzC4UPyhhX_PZ4AaABAg            0           0  2022-01-22T08:13:29Z   \n",
       "1  Ugx3IYuAufhb932GYQx4AaABAg            0           0  2022-01-22T01:09:46Z   \n",
       "2  UgyhwwoK24arzRt1mud4AaABAg            0           0  2022-01-21T23:59:05Z   \n",
       "3  UgwrrI7nd3WClsotmHV4AaABAg            0           0  2022-01-21T23:00:37Z   \n",
       "4  UgxlOrHO4MHKSwY9mUN4AaABAg            0           0  2022-01-21T20:24:20Z   \n",
       "\n",
       "         VidId    user_ID  \n",
       "0  xpIFS6jZbe8   user_981  \n",
       "1  xpIFS6jZbe8   user_213  \n",
       "2  rEWPqw6rMGI  user_1065  \n",
       "3  xpIFS6jZbe8  user_3391  \n",
       "4  sHRq-LshG3U  user_2816  "
      ]
     },
     "execution_count": 13,
     "metadata": {},
     "output_type": "execute_result"
    }
   ],
   "source": [
    "df_comments.head()"
   ]
  },
  {
   "cell_type": "code",
   "execution_count": 14,
   "id": "02b8d12f-f6eb-4c89-8317-ce474d4f0ec3",
   "metadata": {},
   "outputs": [
    {
     "name": "stdout",
     "output_type": "stream",
     "text": [
      "Index(['Video', 'Video title', 'Video pub­lish time', 'Com­ments ad­ded',\n",
      "       'Shares', 'Dis­likes', 'Likes', 'Sub­scribers lost',\n",
      "       'Sub­scribers gained', 'RPM (USD)', 'CPM (USD)',\n",
      "       'Av­er­age per­cent­age viewed (%)', 'Av­er­age view dur­a­tion',\n",
      "       'Views', 'Watch time (hours)', 'Sub­scribers',\n",
      "       'Your es­tim­ated rev­en­ue (USD)', 'Im­pres­sions',\n",
      "       'Im­pres­sions click-through rate (%)'],\n",
      "      dtype='object')\n"
     ]
    }
   ],
   "source": [
    "print(df_agg.columns)"
   ]
  },
  {
   "cell_type": "code",
   "execution_count": 15,
   "id": "7f7f23af-ec9b-4bff-9a37-889c8dd393f6",
   "metadata": {},
   "outputs": [
    {
     "name": "stdout",
     "output_type": "stream",
     "text": [
      "Index(['Video Title', 'External Video ID', 'Video Length', 'Thumbnail link',\n",
      "       'Country Code', 'Is Subscribed', 'Views', 'Video Likes Added',\n",
      "       'Video Dislikes Added', 'Video Likes Removed',\n",
      "       'User Subscriptions Added', 'User Subscriptions Removed',\n",
      "       'Average View Percentage', 'Average Watch Time', 'User Comments Added'],\n",
      "      dtype='object')\n"
     ]
    }
   ],
   "source": [
    "print(df_agg_country_sub.columns)"
   ]
  },
  {
   "cell_type": "code",
   "execution_count": 17,
   "id": "a542de32-361a-496a-be47-91726545a529",
   "metadata": {},
   "outputs": [
    {
     "name": "stdout",
     "output_type": "stream",
     "text": [
      "Index(['Date', 'Video Title', 'External Video ID', 'Video Length',\n",
      "       'Thumbnail link', 'Views', 'Video Likes Added', 'Video Dislikes Added',\n",
      "       'Video Likes Removed', 'User Subscriptions Added',\n",
      "       'User Subscriptions Removed', 'Average View Percentage',\n",
      "       'Average Watch Time', 'User Comments Added'],\n",
      "      dtype='object')\n"
     ]
    }
   ],
   "source": [
    "print(df_ts.columns)"
   ]
  },
  {
   "cell_type": "code",
   "execution_count": 18,
   "id": "e6df3eb7-fe44-4614-a5f5-c748b65ead89",
   "metadata": {},
   "outputs": [
    {
     "name": "stdout",
     "output_type": "stream",
     "text": [
      "Index(['Comments', 'Comment_ID', 'Reply_Count', 'Like_Count', 'Date', 'VidId',\n",
      "       'user_ID'],\n",
      "      dtype='object')\n"
     ]
    }
   ],
   "source": [
    "print(df_comments.columns)"
   ]
  },
  {
   "cell_type": "code",
   "execution_count": 19,
   "id": "f58b6b8b-86c5-421b-b779-274cfa644d3b",
   "metadata": {},
   "outputs": [
    {
     "data": {
      "text/plain": [
       "4256"
      ]
     },
     "execution_count": 19,
     "metadata": {},
     "output_type": "execute_result"
    }
   ],
   "source": [
    "df_agg.size"
   ]
  },
  {
   "cell_type": "code",
   "execution_count": 21,
   "id": "d48ba9ca-01f1-40a4-a335-3fafcf4acdde",
   "metadata": {},
   "outputs": [
    {
     "data": {
      "text/plain": [
       "(224, 19)"
      ]
     },
     "execution_count": 21,
     "metadata": {},
     "output_type": "execute_result"
    }
   ],
   "source": [
    "df_agg.shape"
   ]
  },
  {
   "cell_type": "code",
   "execution_count": 22,
   "id": "aa842690-1e68-4a87-b756-cdaa7f5e75c0",
   "metadata": {},
   "outputs": [
    {
     "data": {
      "text/plain": [
       "829380"
      ]
     },
     "execution_count": 22,
     "metadata": {},
     "output_type": "execute_result"
    }
   ],
   "source": [
    "df_agg_country_sub.size"
   ]
  },
  {
   "cell_type": "code",
   "execution_count": 23,
   "id": "13e931a4-80cf-4ec4-a2a4-0d5016fdbe86",
   "metadata": {},
   "outputs": [
    {
     "data": {
      "text/plain": [
       "(55292, 15)"
      ]
     },
     "execution_count": 23,
     "metadata": {},
     "output_type": "execute_result"
    }
   ],
   "source": [
    "df_agg_country_sub.shape"
   ]
  },
  {
   "cell_type": "code",
   "execution_count": 24,
   "id": "ae82a301-25ad-4257-af7f-80cf67ddba64",
   "metadata": {},
   "outputs": [
    {
     "data": {
      "text/plain": [
       "1565998"
      ]
     },
     "execution_count": 24,
     "metadata": {},
     "output_type": "execute_result"
    }
   ],
   "source": [
    "df_ts.size"
   ]
  },
  {
   "cell_type": "code",
   "execution_count": 26,
   "id": "44e1e005-3f07-4e62-828d-c6b0eb45a68f",
   "metadata": {},
   "outputs": [
    {
     "data": {
      "text/plain": [
       "(111857, 14)"
      ]
     },
     "execution_count": 26,
     "metadata": {},
     "output_type": "execute_result"
    }
   ],
   "source": [
    "df_ts.shape"
   ]
  },
  {
   "cell_type": "code",
   "execution_count": 27,
   "id": "afd5138c-bb11-4d51-90cc-782dad4bb24b",
   "metadata": {},
   "outputs": [
    {
     "data": {
      "text/plain": [
       "71680"
      ]
     },
     "execution_count": 27,
     "metadata": {},
     "output_type": "execute_result"
    }
   ],
   "source": [
    "df_comments.size"
   ]
  },
  {
   "cell_type": "code",
   "execution_count": 28,
   "id": "6832e833-0a5e-496e-a4c4-5b5afcee88ef",
   "metadata": {},
   "outputs": [
    {
     "data": {
      "text/plain": [
       "(10240, 7)"
      ]
     },
     "execution_count": 28,
     "metadata": {},
     "output_type": "execute_result"
    }
   ],
   "source": [
    "df_comments.shape"
   ]
  },
  {
   "cell_type": "code",
   "execution_count": 31,
   "id": "eb714d4d-7f24-4427-a151-7ee87046a17b",
   "metadata": {},
   "outputs": [],
   "source": [
    "#the column headers have some extra non-ascii characters, we need to clean them up before we do our analysis\n",
    "#this goes through each column and removes all the non-ascii characters \n",
    "\n",
    "newcols =[x.encode(\"ascii\", \"ignore\").decode('utf-8') for x in df_agg.columns]\n",
    "df_agg.columns = newcols"
   ]
  },
  {
   "cell_type": "code",
   "execution_count": 32,
   "id": "b6b29312-bac7-425b-b6ba-d333f3c7f3dc",
   "metadata": {},
   "outputs": [
    {
     "data": {
      "text/plain": [
       "Index(['Video', 'Video title', 'Video publish time', 'Comments added',\n",
       "       'Shares', 'Dislikes', 'Likes', 'Subscribers lost', 'Subscribers gained',\n",
       "       'RPM (USD)', 'CPM (USD)', 'Average percentage viewed (%)',\n",
       "       'Average view duration', 'Views', 'Watch time (hours)', 'Subscribers',\n",
       "       'Your estimated revenue (USD)', 'Impressions',\n",
       "       'Impressions click-through rate (%)'],\n",
       "      dtype='object')"
      ]
     },
     "execution_count": 32,
     "metadata": {},
     "output_type": "execute_result"
    }
   ],
   "source": [
    "df_agg.columns"
   ]
  },
  {
   "cell_type": "code",
   "execution_count": 33,
   "id": "aa2ba48e-cfcc-4cd1-b44c-010196d0b7d2",
   "metadata": {},
   "outputs": [
    {
     "data": {
      "text/html": [
       "<div>\n",
       "<style scoped>\n",
       "    .dataframe tbody tr th:only-of-type {\n",
       "        vertical-align: middle;\n",
       "    }\n",
       "\n",
       "    .dataframe tbody tr th {\n",
       "        vertical-align: top;\n",
       "    }\n",
       "\n",
       "    .dataframe thead th {\n",
       "        text-align: right;\n",
       "    }\n",
       "</style>\n",
       "<table border=\"1\" class=\"dataframe\">\n",
       "  <thead>\n",
       "    <tr style=\"text-align: right;\">\n",
       "      <th></th>\n",
       "      <th>Comments added</th>\n",
       "      <th>Shares</th>\n",
       "      <th>Dislikes</th>\n",
       "      <th>Likes</th>\n",
       "      <th>Subscribers lost</th>\n",
       "      <th>Subscribers gained</th>\n",
       "      <th>RPM (USD)</th>\n",
       "      <th>CPM (USD)</th>\n",
       "      <th>Average percentage viewed (%)</th>\n",
       "      <th>Views</th>\n",
       "      <th>Watch time (hours)</th>\n",
       "      <th>Subscribers</th>\n",
       "      <th>Your estimated revenue (USD)</th>\n",
       "      <th>Impressions</th>\n",
       "      <th>Impressions click-through rate (%)</th>\n",
       "    </tr>\n",
       "  </thead>\n",
       "  <tbody>\n",
       "    <tr>\n",
       "      <th>count</th>\n",
       "      <td>224.000000</td>\n",
       "      <td>224.000000</td>\n",
       "      <td>224.000000</td>\n",
       "      <td>224.000000</td>\n",
       "      <td>224.000000</td>\n",
       "      <td>224.000000</td>\n",
       "      <td>224.000000</td>\n",
       "      <td>222.000000</td>\n",
       "      <td>224.000000</td>\n",
       "      <td>2.240000e+02</td>\n",
       "      <td>224.000000</td>\n",
       "      <td>224.000000</td>\n",
       "      <td>224.000000</td>\n",
       "      <td>2.240000e+02</td>\n",
       "      <td>224.000000</td>\n",
       "    </tr>\n",
       "    <tr>\n",
       "      <th>mean</th>\n",
       "      <td>126.750000</td>\n",
       "      <td>353.924107</td>\n",
       "      <td>34.839286</td>\n",
       "      <td>2008.919643</td>\n",
       "      <td>217.620536</td>\n",
       "      <td>1608.084821</td>\n",
       "      <td>4.442040</td>\n",
       "      <td>11.442779</td>\n",
       "      <td>34.087277</td>\n",
       "      <td>4.971645e+04</td>\n",
       "      <td>2835.711522</td>\n",
       "      <td>1390.464286</td>\n",
       "      <td>259.537433</td>\n",
       "      <td>9.013573e+05</td>\n",
       "      <td>3.084152</td>\n",
       "    </tr>\n",
       "    <tr>\n",
       "      <th>std</th>\n",
       "      <td>948.732371</td>\n",
       "      <td>2736.321694</td>\n",
       "      <td>268.668317</td>\n",
       "      <td>15387.274015</td>\n",
       "      <td>3058.766918</td>\n",
       "      <td>15628.834115</td>\n",
       "      <td>1.789148</td>\n",
       "      <td>3.334781</td>\n",
       "      <td>15.118746</td>\n",
       "      <td>3.810302e+05</td>\n",
       "      <td>21662.566897</td>\n",
       "      <td>12647.246927</td>\n",
       "      <td>2011.119492</td>\n",
       "      <td>6.967916e+06</td>\n",
       "      <td>1.670448</td>\n",
       "    </tr>\n",
       "    <tr>\n",
       "      <th>min</th>\n",
       "      <td>0.000000</td>\n",
       "      <td>0.000000</td>\n",
       "      <td>0.000000</td>\n",
       "      <td>1.000000</td>\n",
       "      <td>0.000000</td>\n",
       "      <td>0.000000</td>\n",
       "      <td>0.000000</td>\n",
       "      <td>5.439000</td>\n",
       "      <td>5.230000</td>\n",
       "      <td>6.000000e+01</td>\n",
       "      <td>1.068400</td>\n",
       "      <td>-21.000000</td>\n",
       "      <td>0.000000</td>\n",
       "      <td>3.650000e+02</td>\n",
       "      <td>0.490000</td>\n",
       "    </tr>\n",
       "    <tr>\n",
       "      <th>25%</th>\n",
       "      <td>18.000000</td>\n",
       "      <td>19.000000</td>\n",
       "      <td>1.000000</td>\n",
       "      <td>163.500000</td>\n",
       "      <td>2.000000</td>\n",
       "      <td>27.000000</td>\n",
       "      <td>3.220750</td>\n",
       "      <td>9.379500</td>\n",
       "      <td>23.602500</td>\n",
       "      <td>3.940000e+03</td>\n",
       "      <td>177.037125</td>\n",
       "      <td>19.750000</td>\n",
       "      <td>12.208250</td>\n",
       "      <td>9.947100e+04</td>\n",
       "      <td>1.925000</td>\n",
       "    </tr>\n",
       "    <tr>\n",
       "      <th>50%</th>\n",
       "      <td>37.000000</td>\n",
       "      <td>46.500000</td>\n",
       "      <td>4.000000</td>\n",
       "      <td>342.500000</td>\n",
       "      <td>7.000000</td>\n",
       "      <td>70.000000</td>\n",
       "      <td>4.334500</td>\n",
       "      <td>11.169500</td>\n",
       "      <td>35.120000</td>\n",
       "      <td>8.347500e+03</td>\n",
       "      <td>397.852200</td>\n",
       "      <td>62.500000</td>\n",
       "      <td>32.595500</td>\n",
       "      <td>1.541925e+05</td>\n",
       "      <td>2.895000</td>\n",
       "    </tr>\n",
       "    <tr>\n",
       "      <th>75%</th>\n",
       "      <td>66.250000</td>\n",
       "      <td>114.250000</td>\n",
       "      <td>11.000000</td>\n",
       "      <td>716.000000</td>\n",
       "      <td>14.000000</td>\n",
       "      <td>245.500000</td>\n",
       "      <td>5.372250</td>\n",
       "      <td>12.901000</td>\n",
       "      <td>43.462500</td>\n",
       "      <td>1.836875e+04</td>\n",
       "      <td>1145.621400</td>\n",
       "      <td>230.500000</td>\n",
       "      <td>96.814750</td>\n",
       "      <td>2.894885e+05</td>\n",
       "      <td>3.975000</td>\n",
       "    </tr>\n",
       "    <tr>\n",
       "      <th>max</th>\n",
       "      <td>14197.000000</td>\n",
       "      <td>39640.000000</td>\n",
       "      <td>3902.000000</td>\n",
       "      <td>225021.000000</td>\n",
       "      <td>45790.000000</td>\n",
       "      <td>229241.000000</td>\n",
       "      <td>10.387000</td>\n",
       "      <td>37.786000</td>\n",
       "      <td>76.600000</td>\n",
       "      <td>5.568487e+06</td>\n",
       "      <td>317602.353600</td>\n",
       "      <td>183451.000000</td>\n",
       "      <td>29068.652000</td>\n",
       "      <td>1.009541e+08</td>\n",
       "      <td>11.510000</td>\n",
       "    </tr>\n",
       "  </tbody>\n",
       "</table>\n",
       "</div>"
      ],
      "text/plain": [
       "       Comments added        Shares     Dislikes          Likes  \\\n",
       "count      224.000000    224.000000   224.000000     224.000000   \n",
       "mean       126.750000    353.924107    34.839286    2008.919643   \n",
       "std        948.732371   2736.321694   268.668317   15387.274015   \n",
       "min          0.000000      0.000000     0.000000       1.000000   \n",
       "25%         18.000000     19.000000     1.000000     163.500000   \n",
       "50%         37.000000     46.500000     4.000000     342.500000   \n",
       "75%         66.250000    114.250000    11.000000     716.000000   \n",
       "max      14197.000000  39640.000000  3902.000000  225021.000000   \n",
       "\n",
       "       Subscribers lost  Subscribers gained   RPM (USD)   CPM (USD)  \\\n",
       "count        224.000000          224.000000  224.000000  222.000000   \n",
       "mean         217.620536         1608.084821    4.442040   11.442779   \n",
       "std         3058.766918        15628.834115    1.789148    3.334781   \n",
       "min            0.000000            0.000000    0.000000    5.439000   \n",
       "25%            2.000000           27.000000    3.220750    9.379500   \n",
       "50%            7.000000           70.000000    4.334500   11.169500   \n",
       "75%           14.000000          245.500000    5.372250   12.901000   \n",
       "max        45790.000000       229241.000000   10.387000   37.786000   \n",
       "\n",
       "       Average percentage viewed (%)         Views  Watch time (hours)  \\\n",
       "count                     224.000000  2.240000e+02          224.000000   \n",
       "mean                       34.087277  4.971645e+04         2835.711522   \n",
       "std                        15.118746  3.810302e+05        21662.566897   \n",
       "min                         5.230000  6.000000e+01            1.068400   \n",
       "25%                        23.602500  3.940000e+03          177.037125   \n",
       "50%                        35.120000  8.347500e+03          397.852200   \n",
       "75%                        43.462500  1.836875e+04         1145.621400   \n",
       "max                        76.600000  5.568487e+06       317602.353600   \n",
       "\n",
       "         Subscribers  Your estimated revenue (USD)   Impressions  \\\n",
       "count     224.000000                    224.000000  2.240000e+02   \n",
       "mean     1390.464286                    259.537433  9.013573e+05   \n",
       "std     12647.246927                   2011.119492  6.967916e+06   \n",
       "min       -21.000000                      0.000000  3.650000e+02   \n",
       "25%        19.750000                     12.208250  9.947100e+04   \n",
       "50%        62.500000                     32.595500  1.541925e+05   \n",
       "75%       230.500000                     96.814750  2.894885e+05   \n",
       "max    183451.000000                  29068.652000  1.009541e+08   \n",
       "\n",
       "       Impressions click-through rate (%)  \n",
       "count                          224.000000  \n",
       "mean                             3.084152  \n",
       "std                              1.670448  \n",
       "min                              0.490000  \n",
       "25%                              1.925000  \n",
       "50%                              2.895000  \n",
       "75%                              3.975000  \n",
       "max                             11.510000  "
      ]
     },
     "execution_count": 33,
     "metadata": {},
     "output_type": "execute_result"
    }
   ],
   "source": [
    "#Using .describe() gives us basic descriptive statistics for all of our numeric data. From this we can see which variables we might want to explore more. \n",
    "#We can see things like: which variables might have outliers, which might have skew, or which have a wide range of values\n",
    "df_agg.describe()"
   ]
  },
  {
   "cell_type": "markdown",
   "id": "a78ace53-b589-4929-9cfb-30e1c0d1d13a",
   "metadata": {},
   "source": [
    "## Single variable plots\n",
    "After looking at the descriptive statistics, we may want to explore our numeric features more. To do this, we like to use single variable plots. These can help us understand the distributions of our data. If our data doesn't follow a normal distribution, we may want to make some transform it so it can be used by specific types of models like linear regresison. \n",
    "\n",
    "Looking at these charts can also help us to evaluate if there are outliers present in our data. \n",
    "\n",
    "First, we will look at histograms of our data. These help us to see skew as well as some outliers. I usually do this with every feature (if possible). Try more of these on your own! \n",
    "\n",
    "Next, we will explore some box plots to see if they tell us additional information\n",
    "\n",
    "Finally, we will explore some distribution plots for categorical variables."
   ]
  },
  {
   "cell_type": "code",
   "execution_count": 34,
   "id": "92088105-1a39-40b5-a165-87699499d569",
   "metadata": {},
   "outputs": [
    {
     "data": {
      "text/plain": [
       "<Axes: >"
      ]
     },
     "execution_count": 34,
     "metadata": {},
     "output_type": "execute_result"
    },
    {
     "data": {
      "image/png": "[encoded data removed]",
      "text/plain": [
       "<Figure size 640x480 with 1 Axes>"
      ]
     },
     "metadata": {},
     "output_type": "display_data"
    }
   ],
   "source": [
    "#you can easily see the distribuiton of data in a column with panda's built in .hist() method. Here is the distribution for likes. There is clearly one sample that has way more like sthan the others, this is something we could look into more\n",
    "\n",
    "df_agg.Likes.hist(bins = 100)"
   ]
  },
  {
   "cell_type": "code",
   "execution_count": 35,
   "id": "50b35b16-dac8-4649-ae62-7816fb05781b",
   "metadata": {},
   "outputs": [
    {
     "data": {
      "text/plain": [
       "(array([21., 26., 28., 29., 45., 38., 19., 10.,  3.,  5.]),\n",
       " array([ 5.23 , 12.367, 19.504, 26.641, 33.778, 40.915, 48.052, 55.189,\n",
       "        62.326, 69.463, 76.6  ]),\n",
       " <BarContainer object of 10 artists>)"
      ]
     },
     "execution_count": 35,
     "metadata": {},
     "output_type": "execute_result"
    },
    {
     "data": {
      "image/png": "[encoded data removed]",
      "text/plain": [
       "<Figure size 640x480 with 1 Axes>"
      ]
     },
     "metadata": {},
     "output_type": "display_data"
    }
   ],
   "source": [
    "#let's look at the same thing for average percentage viewed. This will have no outliers unlike the likes column. We are using matplotlib's hist function here instead of the integration through pandas. \n",
    "plt.hist(df_agg['Average percentage viewed (%)'])"
   ]
  },
  {
   "cell_type": "code",
   "execution_count": null,
   "id": "cb193be6-abb8-4ec9-8a1f-4de4576aa220",
   "metadata": {},
   "outputs": [],
   "source": [
    "#this data has a significant amount of right skew, we may want to transform this data if we were planning to use linear regression.\n",
    "df_agg['Impressions click-through rate (%)'].hist()"
   ]
  },
  {
   "cell_type": "code",
   "execution_count": 38,
   "id": "825cb460-6e53-4b32-b8b8-cf475c5f6088",
   "metadata": {},
   "outputs": [
    {
     "data": {
      "text/plain": [
       "{'whiskers': [<matplotlib.lines.Line2D at 0x1523d7845d0>,\n",
       "  <matplotlib.lines.Line2D at 0x1523d799150>],\n",
       " 'caps': [<matplotlib.lines.Line2D at 0x1523d799a50>,\n",
       "  <matplotlib.lines.Line2D at 0x1523d79a350>],\n",
       " 'boxes': [<matplotlib.lines.Line2D at 0x1523ce4a9d0>],\n",
       " 'medians': [<matplotlib.lines.Line2D at 0x1523d79ac10>],\n",
       " 'fliers': [<matplotlib.lines.Line2D at 0x1523d79b490>],\n",
       " 'means': []}"
      ]
     },
     "execution_count": 38,
     "metadata": {},
     "output_type": "execute_result"
    },
    {
     "data": {
      "image/png": "[encoded data removed]",
      "text/plain": [
       "<Figure size 640x480 with 1 Axes>"
      ]
     },
     "metadata": {},
     "output_type": "display_data"
    }
   ],
   "source": [
    "#From this boxplot, we can see that there are quite a few outliers from our normal data. What does this tell us about the nature of likes on videos? Perhaps we shouldn't be trusting averages if something can skew so high. \n",
    "plt.boxplot(df_agg['Likes'])"
   ]
  },
  {
   "cell_type": "code",
   "execution_count": null,
   "id": "e713305b-081f-499c-9802-6d7fbc27e386",
   "metadata": {},
   "outputs": [],
   "source": [
    "#this plot looks a lot more normal. We can se emost of the videos are viewed between 25-45% of the way through. We still have some outliers, what may be special or different about those? \n",
    "plt.boxplot(df_agg['Average percentage viewed (%)'])"
   ]
  },
  {
   "cell_type": "code",
   "execution_count": 39,
   "id": "b2c705f7-01e7-47b6-92ba-0b0032bd9df6",
   "metadata": {},
   "outputs": [
    {
     "data": {
      "text/plain": [
       "{'whiskers': [<matplotlib.lines.Line2D at 0x1523d7e5a50>,\n",
       "  <matplotlib.lines.Line2D at 0x1523d7e6510>],\n",
       " 'caps': [<matplotlib.lines.Line2D at 0x1523d7e6ed0>,\n",
       "  <matplotlib.lines.Line2D at 0x1523d7e7810>],\n",
       " 'boxes': [<matplotlib.lines.Line2D at 0x1523d7e5150>],\n",
       " 'medians': [<matplotlib.lines.Line2D at 0x1523dee80d0>],\n",
       " 'fliers': [<matplotlib.lines.Line2D at 0x1523dee89d0>],\n",
       " 'means': []}"
      ]
     },
     "execution_count": 39,
     "metadata": {},
     "output_type": "execute_result"
    },
    {
     "data": {
      "image/png": "[encoded data removed]",
      "text/plain": [
       "<Figure size 640x480 with 1 Axes>"
      ]
     },
     "metadata": {},
     "output_type": "display_data"
    }
   ],
   "source": [
    "plt.boxplot(df_agg['Impressions click-through rate (%)'])"
   ]
  },
  {
   "cell_type": "code",
   "execution_count": null,
   "id": "78a146ba-5165-40ab-b50e-f26d8d6b306b",
   "metadata": {},
   "outputs": [],
   "source": []
  }
 ],
 "metadata": {
  "kernelspec": {
   "display_name": "Python 3 (ipykernel)",
   "language": "python",
   "name": "python3"
  },
  "language_info": {
   "codemirror_mode": {
    "name": "ipython",
    "version": 3
   },
   "file_extension": ".py",
   "mimetype": "text/x-python",
   "name": "python",
   "nbconvert_exporter": "python",
   "pygments_lexer": "ipython3",
   "version": "3.11.7"
  }
 },
 "nbformat": 4,
 "nbformat_minor": 5
}
